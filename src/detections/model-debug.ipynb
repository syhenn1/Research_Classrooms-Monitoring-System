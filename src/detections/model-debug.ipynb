{
 "cells": [
  {
   "cell_type": "code",
   "execution_count": null,
   "id": "e299f1f3",
   "metadata": {},
   "outputs": [
    {
     "name": "stdout",
     "output_type": "stream",
     "text": [
      "{0: 'Eating', 1: 'Fighting', 2: 'Sleeping', 3: 'Talking', 4: 'UOP', 5: 'phone', 6: 'sleep', 7: 'study', 8: 'hand-raising', 9: 'leaning over the table', 10: 'reading', 11: 'using phone', 12: 'writing'}\n"
     ]
    }
   ],
   "source": [
    "import cv2\n",
    "from ultralytics import YOLO\n",
    "\n",
    "# --- Muat Model Deteksi Gangguan ---\n",
    "model = YOLO('models/disruption-best-v3.pt')  # Pastikan model ini telah dilatih untuk gangguan di kelas\n",
    "class_names = model.names       # Ambil label seperti 'disruption', 'noteTaking', dll\n",
    "\n",
    "print(model.names)\n",
    "\n",
    "# --- Buka Kamera ---\n",
    "cap = cv2.VideoCapture(0)\n",
    "if not cap.isOpened():\n",
    "    print(\"Error: Tidak bisa membuka kamera.\")\n",
    "    exit()\n",
    "\n",
    "while True:\n",
    "    success, frame = cap.read()\n",
    "    if not success:\n",
    "        print(\"Ignoring empty camera frame.\")\n",
    "        break\n",
    "\n",
    "    # Balik gambar agar seperti cermin (opsional)\n",
    "    frame = cv2.flip(frame, 1)\n",
    "\n",
    "    # Deteksi menggunakan model\n",
    "    results = model(frame, verbose=False)\n",
    "    boxes = results[0].boxes\n",
    "\n",
    "    # Anotasi hasil deteksi ke frame\n",
    "    for box in boxes:\n",
    "        x1, y1, x2, y2 = map(int, box.xyxy[0])\n",
    "        conf = float(box.conf[0])\n",
    "        cls_id = int(box.cls[0])\n",
    "        label = f\"{class_names[cls_id]}: {conf:.2%}\"\n",
    "\n",
    "        # Gambar kotak dan label\n",
    "        cv2.rectangle(frame, (x1, y1), (x2, y2), (0, 255, 0), 2)\n",
    "        cv2.putText(frame, label, (x1, y1 - 10),\n",
    "                    cv2.FONT_HERSHEY_SIMPLEX, 0.6, (0, 255, 0), 2)\n",
    "\n",
    "    # Tampilkan frame\n",
    "    cv2.imshow(\"Disruption Detection\", frame)\n",
    "\n",
    "    # Tekan ESC (27) untuk keluar\n",
    "    if cv2.waitKey(1) & 0xFF == 27:\n",
    "        break\n",
    "\n",
    "# Bersihkan sumber daya\n",
    "cap.release()\n",
    "cv2.destroyAllWindows()\n"
   ]
  }
 ],
 "metadata": {
  "kernelspec": {
   "display_name": "Python 3",
   "language": "python",
   "name": "python3"
  },
  "language_info": {
   "codemirror_mode": {
    "name": "ipython",
    "version": 3
   },
   "file_extension": ".py",
   "mimetype": "text/x-python",
   "name": "python",
   "nbconvert_exporter": "python",
   "pygments_lexer": "ipython3",
   "version": "3.11.9"
  }
 },
 "nbformat": 4,
 "nbformat_minor": 5
}
